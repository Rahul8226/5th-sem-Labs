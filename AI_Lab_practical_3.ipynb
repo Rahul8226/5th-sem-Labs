{
  "nbformat": 4,
  "nbformat_minor": 0,
  "metadata": {
    "colab": {
      "name": "AI Lab practical 3.ipynb",
      "provenance": [],
      "collapsed_sections": [
        "OnPFfpsKjIV8",
        "e2YKst2Dkunk",
        "U6Ch9RUCKT8P",
        "ZXZBSS9IqKRv",
        "TKgdzpvJthj_"
      ],
      "toc_visible": true,
      "authorship_tag": "ABX9TyOuhXirMGf8zn2WCLoh8eFP",
      "include_colab_link": true
    },
    "kernelspec": {
      "name": "python3",
      "display_name": "Python 3"
    },
    "language_info": {
      "name": "python"
    }
  },
  "cells": [
    {
      "cell_type": "markdown",
      "metadata": {
        "id": "view-in-github",
        "colab_type": "text"
      },
      "source": [
        "<a href=\"https://colab.research.google.com/github/Rahul8226/5th-sem-Labs/blob/main/AI_Lab_practical_3.ipynb\" target=\"_parent\"><img src=\"https://colab.research.google.com/assets/colab-badge.svg\" alt=\"Open In Colab\"/></a>"
      ]
    },
    {
      "cell_type": "markdown",
      "metadata": {
        "id": "Vs1m8Wlag12p"
      },
      "source": [
        "# ARTIFICIAL INTELLIGENCE PRACTICAL 3\n",
        "\n",
        "---\n",
        "\n"
      ]
    },
    {
      "cell_type": "markdown",
      "metadata": {
        "id": "OnPFfpsKjIV8"
      },
      "source": [
        "###1. Write a Python program to insert items into a list in sorted order.[link text](https://)"
      ]
    },
    {
      "cell_type": "code",
      "metadata": {
        "colab": {
          "base_uri": "https://localhost:8080/"
        },
        "id": "tH_vYBvIjPGL",
        "outputId": "4cdf5e61-b27f-46ad-d3d0-1051426db1a6"
      },
      "source": [
        "def insert(list, item):\n",
        "    for n in range(len(list)):\n",
        "        if list[n]>item:\n",
        "            break\n",
        "    if n==len(list)-1 and item>list[n]:\n",
        "        list = list[:n+1]+[item]\n",
        "    else:\n",
        "        list = list[:n]+[item]+list[n:]\n",
        "    return list\n",
        "\n",
        "    \n",
        "def main():\n",
        "    # n = int(input(\"Enter the number iof elements of list: \"))\n",
        "    # list = [int(input()) for x in range(n)]\n",
        "    list = [20, 30, 40, 60, 70, 80]\n",
        "    print(\"Previous List: \", list)\n",
        "    while True:\n",
        "        try:\n",
        "            elem = int(input(\"Enter the element to insert into the list: \"))\n",
        "            break\n",
        "        except:\n",
        "            print(\"Invalid input.\\nPlease enter the integer element\")\n",
        "    list = insert(list=list, item=elem)\n",
        "    print(\"New List: \", list)\n",
        "    \n",
        "if __name__=='__main__':\n",
        "    main()"
      ],
      "execution_count": null,
      "outputs": [
        {
          "output_type": "stream",
          "name": "stdout",
          "text": [
            "Previous List:  [20, 30, 40, 60, 70, 80]\n",
            "Enter the element to insert into the list: 55\n",
            "New List:  [20, 30, 40, 55, 60, 70, 80]\n"
          ]
        }
      ]
    },
    {
      "cell_type": "markdown",
      "metadata": {
        "id": "e2YKst2Dkunk"
      },
      "source": [
        "###2. Write a Python program to create a queue and display all the members and size of the queue."
      ]
    },
    {
      "cell_type": "code",
      "metadata": {
        "colab": {
          "base_uri": "https://localhost:8080/"
        },
        "id": "2H-MEKbZ8Pzy",
        "outputId": "b6b61892-a1e0-4646-88d3-d7a8a5d998a6"
      },
      "source": [
        "queue = list()\n",
        "def message():\n",
        "  msg = {\n",
        "      1: \"To add elements in queue.\",\n",
        "      2: \"Display members of queue.\",\n",
        "      3: \"Display size of queue.\",\n",
        "      4: \"Quit Program.\"\n",
        "  }\n",
        "  for key in msg.keys():\n",
        "    print(\"[{}]: {}\".format(key, msg[key]))\n",
        "\n",
        "\n",
        "def add_element():\n",
        "  queue.append(int(input(\"Enter element: \")))\n",
        "  print(\"Element added Successfully.\")\n",
        "\n",
        "\n",
        "def make_choice():\n",
        "  while True:\n",
        "    try:\n",
        "      choice = int(input(\"Enter your choice: \"))\n",
        "      if choice == 1:\n",
        "        add_element()\n",
        "      elif choice == 2:\n",
        "        print(\"Queue is:\", queue)\n",
        "      elif choice == 3:\n",
        "        print(\"Number of elements in queue is: {}\".format(len(queue)))\n",
        "      elif choice == 4:\n",
        "        return 0\n",
        "    except:\n",
        "      print(\"Invalid choice.\\nPlease enter valid integer value.\")\n",
        "\n",
        "\n",
        "def main():\n",
        "  print(\"Queue Created...\")\n",
        "  message()\n",
        "  make_choice()\n",
        "\n",
        "if __name__=='__main__':\n",
        "  main()"
      ],
      "execution_count": null,
      "outputs": [
        {
          "name": "stdout",
          "output_type": "stream",
          "text": [
            "Queue Created...\n",
            "[1]: To add elements in queue.\n",
            "[2]: Display members of queue.\n",
            "[3]: Display size of queue.\n",
            "[4]: Quit Program.\n",
            "Enter your choice: 1\n",
            "Enter element: g\n",
            "Invalid choice.\n",
            "Please enter valid integer value.\n",
            "Enter your choice: 1\n",
            "Enter element: 15\n",
            "Element added Successfully.\n",
            "Enter your choice: 1\n",
            "Enter element: 16\n",
            "Element added Successfully.\n",
            "Enter your choice: 2\n",
            "Queue is: [15, 16]\n",
            "Enter your choice: 3\n",
            "Number of elements in queue is: 2\n",
            "Enter your choice: 4\n"
          ]
        }
      ]
    },
    {
      "cell_type": "markdown",
      "metadata": {
        "id": "U6Ch9RUCKT8P"
      },
      "source": [
        "###3. Write a Python program to find whether a queue is empty or not."
      ]
    },
    {
      "cell_type": "code",
      "metadata": {
        "colab": {
          "base_uri": "https://localhost:8080/"
        },
        "id": "n5J1H5ytKh78",
        "outputId": "23a60830-2dd9-4924-ccf1-18eaa6167951"
      },
      "source": [
        "queue = []\n",
        "def decor(check):\n",
        "  def print_fxn(queue):\n",
        "    if len(queue)>0:\n",
        "      print(\"Queue is not empty.\")\n",
        "    else:\n",
        "      print(\"Queue is empty.\")\n",
        "  return print_fxn\n",
        "\n",
        "@decor\n",
        "def check(queue):\n",
        "  return 0\n",
        "\n",
        "def main():\n",
        "  # queue = [10, 20, 30]\n",
        "  queue = input(\"Enter space saperated values\").split()\n",
        "  check(queue)\n",
        "\n",
        "if __name__=='__main__':\n",
        "  main()"
      ],
      "execution_count": null,
      "outputs": [
        {
          "output_type": "stream",
          "name": "stdout",
          "text": [
            "Enter space saperated values    \n",
            "Queue is empty.\n"
          ]
        }
      ]
    },
    {
      "cell_type": "markdown",
      "metadata": {
        "id": "ZXZBSS9IqKRv"
      },
      "source": [
        "###4. Write a Python program to create a FIFO queue."
      ]
    },
    {
      "cell_type": "code",
      "metadata": {
        "colab": {
          "base_uri": "https://localhost:8080/"
        },
        "id": "BLMnMQeQqPcW",
        "outputId": "030d7539-e746-408a-b782-580226d7af2a"
      },
      "source": [
        "queue = list()\n",
        "def message():\n",
        "  msg = {\n",
        "      1: \"To add elements in queue.\",\n",
        "      2: \"Display members of queue.\",\n",
        "      3: \"Display size of queue.\",\n",
        "      4: \"Remove an element from queue.\",\n",
        "      5: \"Quit Program.\"\n",
        "  }\n",
        "  for key in msg.keys():\n",
        "    print(\"[{}]: {}\".format(key, msg[key]))\n",
        "\n",
        "\n",
        "def add_element():\n",
        "  queue.append(int(input(\"Enter element: \")))\n",
        "  print(\"Element added Successfully.\")\n",
        "\n",
        "\n",
        "def remove_element():\n",
        "  try:\n",
        "    queue.pop(0)\n",
        "    print(\"Element removed Successfully.\")\n",
        "  except:\n",
        "    print(\"Queue is EMPTY.\")\n",
        "\n",
        "\n",
        "def make_choice():\n",
        "  while True:\n",
        "    try:\n",
        "      choice = int(input(\"Enter your choice: \"))\n",
        "      if choice == 1:\n",
        "        add_element()\n",
        "      elif choice == 2:\n",
        "        print(\"Queue is:\", queue)\n",
        "      elif choice == 3:\n",
        "        print(\"Number of elements in queue is: {}\".format(len(queue)))\n",
        "      elif choice == 4:\n",
        "        remove_element()\n",
        "      elif choice == 5:\n",
        "        return 0\n",
        "    except:\n",
        "      print(\"Invalid choice.\\nPlease enter valid integer value.\")\n",
        "\n",
        "\n",
        "def main():\n",
        "  print(\"Queue(FIFO) Created...\")\n",
        "  message()\n",
        "  make_choice()\n",
        "\n",
        "if __name__=='__main__':\n",
        "  main()"
      ],
      "execution_count": null,
      "outputs": [
        {
          "name": "stdout",
          "output_type": "stream",
          "text": [
            "Queue(FIFO) Created...\n",
            "[1]: To add elements in queue.\n",
            "[2]: Display members of queue.\n",
            "[3]: Display size of queue.\n",
            "[4]: Remove an element from queue.\n",
            "[5]: Quit Program.\n",
            "Enter your choice: 4\n",
            "Queue is EMPTY.\n",
            "Enter your choice: 3\n",
            "Number of elements in queue is: 0\n",
            "Enter your choice: 2\n",
            "Queue is: []\n",
            "Enter your choice: 1\n",
            "Enter element: 15\n",
            "Element added Successfully.\n",
            "Enter your choice: 1\n",
            "Enter element: 16\n",
            "Element added Successfully.\n",
            "Enter your choice: 1\n",
            "Enter element: 17\n",
            "Element added Successfully.\n",
            "Enter your choice: 2\n",
            "Queue is: [15, 16, 17]\n",
            "Enter your choice: 3\n",
            "Number of elements in queue is: 3\n",
            "Enter your choice: 4\n",
            "Element removed Successfully.\n",
            "Enter your choice: 2\n",
            "Queue is: [16, 17]\n",
            "Enter your choice: 3\n",
            "Number of elements in queue is: 2\n",
            "Enter your choice: 5\n"
          ]
        }
      ]
    },
    {
      "cell_type": "markdown",
      "metadata": {
        "id": "TKgdzpvJthj_"
      },
      "source": [
        "###5. Write a Python program to create a LIFO queue."
      ]
    },
    {
      "cell_type": "code",
      "metadata": {
        "colab": {
          "base_uri": "https://localhost:8080/"
        },
        "id": "nq6H9cyitlCb",
        "outputId": "293f3e85-4a2d-45f6-f663-3692670145ee"
      },
      "source": [
        "queue = list()\n",
        "def message():\n",
        "  msg = {\n",
        "      1: \"To add elements in queue.\",\n",
        "      2: \"Display members of queue.\",\n",
        "      3: \"Display size of queue.\",\n",
        "      4: \"Remove an element from queue.\",\n",
        "      5: \"Quit Program.\"\n",
        "  }\n",
        "  for key in msg.keys():\n",
        "    print(\"[{}]: {}\".format(key, msg[key]))\n",
        "\n",
        "\n",
        "def add_element():\n",
        "  queue.append(int(input(\"Enter element: \")))\n",
        "  print(\"Element added Successfully.\")\n",
        "\n",
        "\n",
        "def remove_element():\n",
        "  try:\n",
        "    queue.pop(len(queue)-1)\n",
        "    print(\"Element removed Successfully.\")\n",
        "  except:\n",
        "    print(\"Queue is EMPTY.\")\n",
        "\n",
        "\n",
        "def make_choice():\n",
        "  while True:\n",
        "    try:\n",
        "      choice = int(input(\"Enter your choice: \"))\n",
        "      if choice == 1:\n",
        "        add_element()\n",
        "      elif choice == 2:\n",
        "        print(\"Queue is:\", queue)\n",
        "      elif choice == 3:\n",
        "        print(\"Number of elements in queue is: {}\".format(len(queue)))\n",
        "      elif choice == 4:\n",
        "        remove_element()\n",
        "      elif choice == 5:\n",
        "        return 0\n",
        "    except:\n",
        "      print(\"Invalid choice.\\nPlease enter valid integer value.\")\n",
        "\n",
        "\n",
        "def main():\n",
        "  print(\"Queue(LIFO) Created...\")\n",
        "  message()\n",
        "  make_choice()\n",
        "\n",
        "if __name__=='__main__':\n",
        "  main()"
      ],
      "execution_count": null,
      "outputs": [
        {
          "name": "stdout",
          "output_type": "stream",
          "text": [
            "Queue(LIFO) Created...\n",
            "[1]: To add elements in queue.\n",
            "[2]: Display members of queue.\n",
            "[3]: Display size of queue.\n",
            "[4]: Remove an element from queue.\n",
            "[5]: Quit Program.\n",
            "Enter your choice: 1\n",
            "Enter element: 15\n",
            "Element added Successfully.\n",
            "Enter your choice: 1\n",
            "Enter element: 16\n",
            "Element added Successfully.\n",
            "Enter your choice: 4\n",
            "Element removed Successfully.\n",
            "Enter your choice: 4\n",
            "Element removed Successfully.\n",
            "Enter your choice: 4\n",
            "Queue is EMPTY.\n",
            "Enter your choice: 4\n",
            "Queue is EMPTY.\n",
            "Enter your choice: 5\n"
          ]
        }
      ]
    }
  ]
}