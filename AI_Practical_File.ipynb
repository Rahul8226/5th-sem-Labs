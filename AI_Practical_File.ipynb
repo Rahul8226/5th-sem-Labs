{
  "nbformat": 4,
  "nbformat_minor": 0,
  "metadata": {
    "colab": {
      "name": "AI Practical File.ipynb",
      "provenance": [],
      "collapsed_sections": [
        "zLQckIxCLVcn",
        "bCtgj-6SL6u2",
        "AieyoGvpMI6H",
        "Pr4hsezjMX0I",
        "ANIoDxmIMfhv",
        "rD6lJcQ5Mpqf"
      ],
      "authorship_tag": "ABX9TyO2DyFXhtpUjFacMmZxRCsA",
      "include_colab_link": true
    },
    "kernelspec": {
      "name": "python3",
      "display_name": "Python 3"
    },
    "language_info": {
      "name": "python"
    }
  },
  "cells": [
    {
      "cell_type": "markdown",
      "metadata": {
        "id": "view-in-github",
        "colab_type": "text"
      },
      "source": [
        "<a href=\"https://colab.research.google.com/github/Rahul8226/5th-sem-Labs/blob/main/AI_Practical_File.ipynb\" target=\"_parent\"><img src=\"https://colab.research.google.com/assets/colab-badge.svg\" alt=\"Open In Colab\"/></a>"
      ]
    },
    {
      "cell_type": "markdown",
      "source": [
        "# ARTIFICIAL INTELLIGENCE PRACTICAL FILE\n",
        "\n",
        "---\n",
        "\n",
        "\n",
        "\n",
        "![download.png](data:image/png;base64,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)\n",
        "\n",
        "\n",
        "\n",
        "> ##   Rahul Kumar\n",
        "---\n",
        "*   CSE Section B1\n",
        "*   CRN: 1915061\n",
        "*   URN: 1905035\n",
        "\n"
      ],
      "metadata": {
        "id": "gH9fgVKQZhtz"
      }
    },
    {
      "cell_type": "markdown",
      "source": [
        "# ARTIFICIAL INTELLIGENCE PRACTICAL 1\n",
        "\n",
        "---"
      ],
      "metadata": {
        "id": "1yyfVoNPKP3i"
      }
    },
    {
      "cell_type": "markdown",
      "source": [
        "### Introduction to python Interpreter"
      ],
      "metadata": {
        "id": "3h1mMMBQYc0A"
      }
    },
    {
      "cell_type": "markdown",
      "source": [
        "Installing and using Python on Windows 10 is very simple. The installation procedure involves just three steps:\n",
        "1.\tDownload the binaries\n",
        "2.\tRun the Executable installer\n",
        "3.\tAdd Python to PATH environmental variables\n",
        "To install Python, you need to download the official Python executable installer. Next, you need to run this installer and complete the installation steps. Finally, you can configure the PATH variable to use python from the command line.\n",
        "You can choose the version of Python you wish to install. It is recommended to install the latest version of Python.\n",
        "\n",
        "\n",
        "Step 1: Download the Python Installer binaries\n",
        "1.\tOpen the official Python website in your web browser. Navigate to the Downloads tab for Windows.\n",
        "2.\tChoose the latest Python 3 release.\n",
        "3.\tClick on the link to download Windows x86 executable installer if you are using a 32-bit installer. In case your Windows installation is a 64-bit system, then download Windows x86-64 executable installer.\n",
        " \n",
        "Step 2: Run the Executable Installer\n",
        "1.\tOnce the installer is downloaded, run the Python installer.\n",
        "2.\tCheck the Install launcher for all users check box. Further, you may check the Add Python 3.9 to path check box to include the interpreter in the execution path.\n",
        "3.\tSelect Customize installation.\n",
        "Choose the optional features by checking the following check boxes:\n",
        "\n",
        "1.\tDocumentation\n",
        "2.\tpip\n",
        "3.\ttcl/tk and IDLE (to install tkinter and IDLE)\n",
        "4.\tPython test suite (to install the standard library test suite of Python)\n",
        "5.\tInstall the global launcher for `.py` files. This makes it easier to start Python\n",
        "6.\tInstall for all users. Click Next.\n",
        "4.\tThis takes you to Advanced Options available while installing Python. Here, select the Install for all users and Add Python to environment variables check boxes.\n",
        "Optionally, you can select the Associate files with Python, Create shortcuts for installed applications and other advanced options. Make note of the python installation directory displayed in this step. You would need it for the next step.\n",
        "After selecting the advanced options, click Install to start installation.\n",
        " \n",
        "5.\tOnce the installation is over, you will see a Python Setup Successful window.\n",
        "\n",
        "\n",
        "Step 3: Add Python to environmental variables\n",
        "The last (optional) step in the installation process is to add Python Path to the System Environment variables.  This  step  is  done  to access Python through the command line. In case you have added Python to environment variables while setting the advanced options during the installation procedure, you can avoid this step. Else, this step is done manually as follows.\n",
        "In the Start menu, search for “advanced system settings”. Select\n",
        "“View advanced system settings”. In the “System Properties” window, click on the “Advanced” tab and then click on the “Environment Variables” button.\n",
        "Locate the Python installation directory on your system. If you followed the steps exactly as above, python will be installed in below locations:\n",
        "•\tC:\\Program Files (x86)\\Python39-32: for 32-bit installation\n",
        "•\tC:\\Program Files\\Python39-32: for 64-bit installation\n",
        "The folder name may be different from “Python39-64” if you installed\n",
        "a different version. Look for a folder whose name starts with Python. Append the following entries to PATH variable as shown below:\n",
        "\n",
        "Step 4: Verify the Python Installation\n",
        "You have now successfully installed Python 3.9.7 on Windows 10. You can verify if the Python installation is successful either through\n",
        " \n",
        "the command line or through the IDLE app that gets installed along with the installation.\n",
        "Search for the command prompt and type “python”. You can see\n",
        "that Python 3.9.7 is successfully installed.\n"
      ],
      "metadata": {
        "id": "cOExOG0tKxQx"
      }
    },
    {
      "cell_type": "markdown",
      "source": [
        "# ARTIFICIAL INTELLIGENCE PRACTICAL 2\n",
        "\n",
        "---"
      ],
      "metadata": {
        "id": "zLQckIxCLVcn"
      }
    },
    {
      "cell_type": "markdown",
      "source": [
        "###1. Write a Python program to insert items into a list in sorted order."
      ],
      "metadata": {
        "id": "bCtgj-6SL6u2"
      }
    },
    {
      "cell_type": "code",
      "source": [
        "def insert(list, item):\n",
        "    for n in range(len(list)):\n",
        "        if list[n]>item:\n",
        "            break\n",
        "    if n==len(list)-1 and item>list[n]:\n",
        "        list = list[:n+1]+[item]\n",
        "    else:\n",
        "        list = list[:n]+[item]+list[n:]\n",
        "    return list\n",
        "\n",
        "    \n",
        "def main():\n",
        "    # n = int(input(\"Enter the number iof elements of list: \"))\n",
        "    # list = [int(input()) for x in range(n)]\n",
        "    list = [20, 30, 40, 60, 70, 80]\n",
        "    print(\"Previous List: \", list)\n",
        "    while True:\n",
        "        try:\n",
        "            elem = int(input(\"Enter the element to insert into the list: \"))\n",
        "            break\n",
        "        except:\n",
        "            print(\"Invalid input.\\nPlease enter the integer element\")\n",
        "    list = insert(list=list, item=elem)\n",
        "    print(\"New List: \", list)\n",
        "    \n",
        "if __name__=='__main__':\n",
        "    main()"
      ],
      "metadata": {
        "id": "0jjXaI5FLyw2"
      },
      "execution_count": null,
      "outputs": []
    },
    {
      "cell_type": "markdown",
      "source": [
        "###2. Write a Python program to create a queue and display all the members and size of the queue."
      ],
      "metadata": {
        "id": "AieyoGvpMI6H"
      }
    },
    {
      "cell_type": "code",
      "source": [
        "queue = list()\n",
        "def message():\n",
        "  msg = {\n",
        "      1: \"To add elements in queue.\",\n",
        "      2: \"Display members of queue.\",\n",
        "      3: \"Display size of queue.\",\n",
        "      4: \"Quit Program.\"\n",
        "  }\n",
        "  for key in msg.keys():\n",
        "    print(\"[{}]: {}\".format(key, msg[key]))\n",
        "\n",
        "\n",
        "def add_element():\n",
        "  queue.append(int(input(\"Enter element: \")))\n",
        "  print(\"Element added Successfully.\")\n",
        "\n",
        "\n",
        "def make_choice():\n",
        "  while True:\n",
        "    try:\n",
        "      choice = int(input(\"Enter your choice: \"))\n",
        "      if choice == 1:\n",
        "        add_element()\n",
        "      elif choice == 2:\n",
        "        print(\"Queue is:\", queue)\n",
        "      elif choice == 3:\n",
        "        print(\"Number of elements in queue is: {}\".format(len(queue)))\n",
        "      elif choice == 4:\n",
        "        return 0\n",
        "    except:\n",
        "      print(\"Invalid choice.\\nPlease enter valid integer value.\")\n",
        "\n",
        "\n",
        "def main():\n",
        "  print(\"Queue Created...\")\n",
        "  message()\n",
        "  make_choice()\n",
        "\n",
        "if __name__=='__main__':\n",
        "  main()"
      ],
      "metadata": {
        "id": "OcyCjveVMTwo"
      },
      "execution_count": null,
      "outputs": []
    },
    {
      "cell_type": "markdown",
      "source": [
        "###3. Write a Python program to find whether a queue is empty or not."
      ],
      "metadata": {
        "id": "Pr4hsezjMX0I"
      }
    },
    {
      "cell_type": "code",
      "source": [
        "queue = []\n",
        "def decor(check):\n",
        "  def print_fxn(queue):\n",
        "    if len(queue)>0:\n",
        "      print(\"Queue is not empty.\")\n",
        "    else:\n",
        "      print(\"Queue is empty.\")\n",
        "  return print_fxn\n",
        "\n",
        "@decor\n",
        "def check(queue):\n",
        "  return 0\n",
        "\n",
        "def main():\n",
        "  # queue = [10, 20, 30]\n",
        "  queue = input(\"Enter space saperated values\").split()\n",
        "  check(queue)\n",
        "\n",
        "if __name__=='__main__':\n",
        "  main()"
      ],
      "metadata": {
        "id": "LAYqjaYgMbjB"
      },
      "execution_count": null,
      "outputs": []
    },
    {
      "cell_type": "markdown",
      "source": [
        "###4. Write a Python program to create a FIFO queue."
      ],
      "metadata": {
        "id": "ANIoDxmIMfhv"
      }
    },
    {
      "cell_type": "code",
      "source": [
        "queue = list()\n",
        "def message():\n",
        "  msg = {\n",
        "      1: \"To add elements in queue.\",\n",
        "      2: \"Display members of queue.\",\n",
        "      3: \"Display size of queue.\",\n",
        "      4: \"Remove an element from queue.\",\n",
        "      5: \"Quit Program.\"\n",
        "  }\n",
        "  for key in msg.keys():\n",
        "    print(\"[{}]: {}\".format(key, msg[key]))\n",
        "\n",
        "\n",
        "def add_element():\n",
        "  queue.append(int(input(\"Enter element: \")))\n",
        "  print(\"Element added Successfully.\")\n",
        "\n",
        "\n",
        "def remove_element():\n",
        "  try:\n",
        "    queue.pop(0)\n",
        "    print(\"Element removed Successfully.\")\n",
        "  except:\n",
        "    print(\"Queue is EMPTY.\")\n",
        "\n",
        "\n",
        "def make_choice():\n",
        "  while True:\n",
        "    try:\n",
        "      choice = int(input(\"Enter your choice: \"))\n",
        "      if choice == 1:\n",
        "        add_element()\n",
        "      elif choice == 2:\n",
        "        print(\"Queue is:\", queue)\n",
        "      elif choice == 3:\n",
        "        print(\"Number of elements in queue is: {}\".format(len(queue)))\n",
        "      elif choice == 4:\n",
        "        remove_element()\n",
        "      elif choice == 5:\n",
        "        return 0\n",
        "    except:\n",
        "      print(\"Invalid choice.\\nPlease enter valid integer value.\")\n",
        "\n",
        "\n",
        "def main():\n",
        "  print(\"Queue(FIFO) Created...\")\n",
        "  message()\n",
        "  make_choice()\n",
        "\n",
        "if __name__=='__main__':\n",
        "  main()"
      ],
      "metadata": {
        "id": "qotRSKO7Mibw"
      },
      "execution_count": null,
      "outputs": []
    },
    {
      "cell_type": "markdown",
      "source": [
        "###5. Write a Python program to create a LIFO queue."
      ],
      "metadata": {
        "id": "rD6lJcQ5Mpqf"
      }
    },
    {
      "cell_type": "code",
      "source": [
        "queue = list()\n",
        "def message():\n",
        "  msg = {\n",
        "      1: \"To add elements in queue.\",\n",
        "      2: \"Display members of queue.\",\n",
        "      3: \"Display size of queue.\",\n",
        "      4: \"Remove an element from queue.\",\n",
        "      5: \"Quit Program.\"\n",
        "  }\n",
        "  for key in msg.keys():\n",
        "    print(\"[{}]: {}\".format(key, msg[key]))\n",
        "\n",
        "\n",
        "def add_element():\n",
        "  queue.append(int(input(\"Enter element: \")))\n",
        "  print(\"Element added Successfully.\")\n",
        "\n",
        "\n",
        "def remove_element():\n",
        "  try:\n",
        "    queue.pop(len(queue)-1)\n",
        "    print(\"Element removed Successfully.\")\n",
        "  except:\n",
        "    print(\"Queue is EMPTY.\")\n",
        "\n",
        "\n",
        "def make_choice():\n",
        "  while True:\n",
        "    try:\n",
        "      choice = int(input(\"Enter your choice: \"))\n",
        "      if choice == 1:\n",
        "        add_element()\n",
        "      elif choice == 2:\n",
        "        print(\"Queue is:\", queue)\n",
        "      elif choice == 3:\n",
        "        print(\"Number of elements in queue is: {}\".format(len(queue)))\n",
        "      elif choice == 4:\n",
        "        remove_element()\n",
        "      elif choice == 5:\n",
        "        return 0\n",
        "    except:\n",
        "      print(\"Invalid choice.\\nPlease enter valid integer value.\")\n",
        "\n",
        "\n",
        "def main():\n",
        "  print(\"Queue(LIFO) Created...\")\n",
        "  message()\n",
        "  make_choice()\n",
        "\n",
        "if __name__=='__main__':\n",
        "  main()"
      ],
      "metadata": {
        "id": "cFYVK98uMtLI"
      },
      "execution_count": null,
      "outputs": []
    },
    {
      "cell_type": "markdown",
      "source": [
        "# ARTIFICIAL INTELLIGENCE PRACTICAL 3\n",
        "\n",
        "---\n",
        "\n"
      ],
      "metadata": {
        "id": "ZzEsfjMPM-Fe"
      }
    },
    {
      "cell_type": "markdown",
      "source": [
        "### 1. Write a Python program to insert items into a list in sorted order. "
      ],
      "metadata": {
        "id": "j8e3LMtONNWX"
      }
    },
    {
      "cell_type": "code",
      "source": [
        "import bisect\n",
        "\n",
        "l1=[2,5,3,448,9,8,65,7,4,6]\n",
        "\n",
        "print(\"Original List:\")\n",
        "print(l1)\n",
        "\n",
        "sort_list = []\n",
        "for i in l1:\n",
        "    pos=bisect.bisect(sort_list,i)\n",
        "    bisect.insort(sort_list,i)\n",
        "print(\"Sorted List:\")\n",
        "print(sort_list)"
      ],
      "metadata": {
        "id": "2lBAnRs_NQJO"
      },
      "execution_count": null,
      "outputs": []
    },
    {
      "cell_type": "markdown",
      "source": [
        "### 2. Write a Python program to create a queue and display all the members and size of the queue."
      ],
      "metadata": {
        "id": "JMn5vNSpNaff"
      }
    },
    {
      "cell_type": "code",
      "source": [
        "import queue\n",
        "q = queue.Queue()\n",
        "for x in range(4):\n",
        "    q.put(x)\n",
        "print(\"Members of the queue:\")\n",
        "y=z=q.qsize()\n",
        "\n",
        "for n in list(q.queue):\n",
        "    print(n,end=\" \")\n",
        "print(\"\\nSize of the queue:\")\n",
        "print(q.qsize())"
      ],
      "metadata": {
        "id": "JKoyUXzCNb4X"
      },
      "execution_count": null,
      "outputs": []
    },
    {
      "cell_type": "markdown",
      "source": [
        "### 3. Write a Python program to find whether a queue is empty or not."
      ],
      "metadata": {
        "id": "T-lxzCmzNftn"
      }
    },
    {
      "cell_type": "code",
      "source": [
        "import queue\n",
        "p = queue.Queue()\n",
        "q = queue.Queue()\n",
        "for x in range(4):\n",
        "    q.put(x)\n",
        "print(p.empty())\n",
        "print(q.empty())"
      ],
      "metadata": {
        "id": "H2MvSjOaNjtX"
      },
      "execution_count": null,
      "outputs": []
    },
    {
      "cell_type": "markdown",
      "source": [
        "### 4. Write a Python program to create a FIFO queue."
      ],
      "metadata": {
        "id": "FMk5vnA_NoNf"
      }
    },
    {
      "cell_type": "code",
      "source": [
        "import queue\n",
        "q = queue.LifoQueue()\n",
        "for x in range(7):\n",
        "    q.put(str(x))\n",
        "while not q.empty():\n",
        "    print(q.get(), end=\" \")\n",
        "print()"
      ],
      "metadata": {
        "id": "rr8K1RTtNrie"
      },
      "execution_count": null,
      "outputs": []
    },
    {
      "cell_type": "markdown",
      "source": [
        "### 5. Write a Python program to create a LIFO queue."
      ],
      "metadata": {
        "id": "fdB2kD0DNum3"
      }
    },
    {
      "cell_type": "code",
      "source": [
        "import queue\n",
        "q = queue.Queue()\n",
        "for x in range(7):\n",
        "    q.put(str(x))\n",
        "while not q.empty():\n",
        "    print(q.get(), end=\" \")\n",
        "print(\"\\n\")"
      ],
      "metadata": {
        "colab": {
          "base_uri": "https://localhost:8080/"
        },
        "id": "uTJ8SuKkNyGI",
        "outputId": "754ad425-3bff-4e5a-b959-d1ebc879acdc"
      },
      "execution_count": null,
      "outputs": [
        {
          "output_type": "stream",
          "name": "stdout",
          "text": [
            "0 1 2 3 4 5 6 \n",
            "\n"
          ]
        }
      ]
    },
    {
      "cell_type": "markdown",
      "source": [
        "# ARTIFICIAL INTELLIGENCE PRACTICAL 4\n",
        "\n",
        "---\n",
        "\n"
      ],
      "metadata": {
        "id": "xV7Vz0HIN62_"
      }
    },
    {
      "cell_type": "markdown",
      "source": [
        "### Introduction to Standard Library, Virtual Environments and packages in Python"
      ],
      "metadata": {
        "id": "4JwAqr__YOYX"
      }
    },
    {
      "cell_type": "markdown",
      "source": [
        "Python Standard Library –\n",
        "\n",
        "Python’s standard library is very extensive, offering a wide range of facilities as indicated\n",
        "by the long table of contents listed below. The library contains built-in modules (written in\n",
        "C) that provide access to system functionality such as file I/O that would otherwise be\n",
        "inaccessible to Python programmers, as well as modules written in Python that provide\n",
        "standardized solutions for many problems that occur in everyday programming. Some of\n",
        "these modules are explicitly designed to encourage and enhance the portability of Python\n",
        "programs by abstracting away platform-specifics into platform-neutral APIs.\n",
        "\n",
        "The Python installers for the Windows platform usually include the entire standard library\n",
        "and often also include many additional components. For Unix-like operating systems\n",
        "Python is normally provided as a collection of packages, so it may be necessary to use the\n",
        "packaging tools provided with the operating system to obtain some or all of the optional\n",
        "components.\n",
        "\n",
        "Virtual Environments and Packages –\n",
        "\n",
        "Introduction –\n",
        "Python applications will often use packages and modules that don’t come as part of the\n",
        "standard library. Applications will sometimes need a specific version of a library, because\n",
        "the application may require that a particular bug has been fixed or the application may be\n",
        "written using an obsolete version of the library’s interface.\n",
        "\n",
        "This means it may not be possible for one Python installation to meet the requirements of\n",
        "every application. If application A needs version 1.0 of a particular module but application\n",
        "B needs version 2.0, then the requirements are in conflict and installing either version 1.0\n",
        "or 2.0 will leave one application unable to run.\n",
        "\n",
        "The solution for this problem is to create a virtual environment, a self-contained directory\n",
        "tree that contains a Python installation for a particular version of Python, plus a number of\n",
        "additional packages.\n",
        "\n",
        "Creating Virtual Environments –\n",
        "\n",
        "The module used to create and manage virtual environments is called venv. venv will\n",
        "usually install the most recent version of Python that you have available. If you have\n",
        "multiple versions of Python on your system, you can select a specific Python version by\n",
        "running python3 or whichever version you want.\n",
        "To create a virtual environment, decide upon a directory where you want to place it, and\n",
        "run the venv module as a script with the directory path:\n",
        "python3 -m venv tutorial-env\n",
        "\n",
        "This will create the tutorial-env directory if it doesn’t exist, and also create directories\n",
        "inside it containing a copy of the Python interpreter, the standard library, and various\n",
        "supporting files. A common directory location for a virtual environment is .venv. This name\n",
        "keeps the directory typically hidden in your shell and thus out of the way while giving it a\n",
        "name that explains why the directory exists. It also prevents clashing with .env\n",
        "environment variable definition files that some tooling supports.\n",
        "Once you’ve created a virtual environment, you may activate it.\n",
        "On Windows, run:\n",
        "\n",
        "tutorial-env\\Scripts\\activate.bat\n",
        "\n",
        "Activating the virtual environment will change your shell’s prompt to show what virtual\n",
        "environment you’re using, and modify the environment so that running python will get you\n",
        "that particular version and installation of Python. For example:\n",
        "$ source ~/envs/tutorial-env/bin/activate\n",
        "(tutorial-env) $ python\n",
        "Python 3.5.1 (default, May 6 2016, 10:59:36)\n",
        "...\n",
        ">>> import sys\n",
        ">>> sys.path\n",
        "['', '/usr/local/lib/python35.zip', ...,\n",
        "'~/envs/tutorial-env/lib/python3.5/site-packages']\n",
        ">>>\n",
        "\n",
        "Managing Packages with pip –\n",
        "\n",
        "You can install, upgrade, and remove packages using a program called pip. By default pip\n",
        "will install packages from the Python Package Index https://pypi.org. You can browse the\n",
        "Python Package Index by going to it in your web browser.\n",
        "Pip has a number of subcommands: “install”, “uninstall”, “freeze”, etc. (Consult the\n",
        "Installing Python Modules guide for complete documentation for pip.) You can install the\n",
        "latest version of a package by specifying a package’s name:\n",
        "(tutorial-env) $ python -m pip install novas\n",
        "Collecting novas\n",
        "Downloading novas-3.1.1.3.tar.gz (136kB)\n",
        "Installing collected packages: novas\n",
        "Running setup.py install for novas\n",
        "Successfully installed novas-3.1.1.3\n",
        "If you re-run this command, pip will notice that the requested version is already installed\n",
        "and do nothing. You can supply a different version number to get that version, or you can\n",
        "run pip install --upgrade to upgrade the package to the latest version:\n",
        "(tutorial-env) $ python -m pip install --upgrade requests\n",
        "Collecting requests\n",
        "Installing collected packages: requests\n",
        "Found existing installation: requests 2.6.0\n",
        "Uninstalling requests-2.6.0:\n",
        "Successfully uninstalled requests-2.6.0\n",
        "Successfully installed requests-2.7.0\n",
        "pip uninstall followed by one or more package names will remove the packages from the\n",
        "virtual environment. pip show will display information about a particular package:\n",
        "(tutorial-env) $ pip show requests\n",
        "---\n",
        "Metadata-Version: 2.0\n",
        "Name: requests\n",
        "Version: 2.7.0\n",
        "Summary: Python HTTP for Humans.\n",
        "Home-page: http://python-requests.org\n",
        "Author: Kenneth Reitz\n",
        "Author-email: me@kennethreitz.com\n",
        "License: Apache 2.0\n",
        "Location: /Users/akuchling/envs/tutorialenv/lib/python3.4/site-packages\n",
        "Requires:\n",
        "pip list will display all of the packages installed in the virtual environment:\n",
        "(tutorial-env) $ pip list\n",
        "novas (3.1.1.3)\n",
        "numpy (1.9.2)\n",
        "pip (7.0.3)\n",
        "requests (2.7.0)\n",
        "setuptools (16.0)\n",
        "pip freeze will produce a similar list of the installed packages, but the output uses the\n",
        "format that pip install expects. A common convention is to put this list in a requirements.txt\n",
        "file:\n",
        "(tutorial-env) $ pip freeze > requirements.txt\n",
        "(tutorial-env) $ cat requirements.txt\n",
        "novas==3.1.1.3\n",
        "numpy==1.9.2\n",
        "requests==2.7.0\n",
        "The requirements.txt can then be committed to version control and shipped as part of an\n",
        "application. Users can then install all the necessary packages with install -r:\n",
        "(tutorial-env) $ python -m pip install -r requirements.txt\n",
        "Collecting novas==3.1.1.3 (from -r requirements.txt (line 1))\n",
        "...\n",
        "Collecting numpy==1.9.2 (from -r requirements.txt (line 2))\n",
        "...\n",
        "Collecting requests==2.7.0 (from -r requirements.txt (line\n",
        "3))\n",
        "...\n",
        "Installing collected packages: novas, numpy, requests\n",
        "Running setup.py install for novas\n",
        "Successfully installed novas-3.1.1.3 numpy-1.9.2 requests2.7.0"
      ],
      "metadata": {
        "id": "mkzInfUzOMEe"
      }
    },
    {
      "cell_type": "markdown",
      "source": [
        "# ARTIFICIAL INTELLIGENCE PRACTICAL 5\n",
        "\n",
        "---\n",
        "\n"
      ],
      "metadata": {
        "id": "JjcjmfzfORBG"
      }
    },
    {
      "cell_type": "markdown",
      "source": [
        "### Breadth First Search:-"
      ],
      "metadata": {
        "id": "TA1v2bR0Oiiu"
      }
    },
    {
      "cell_type": "code",
      "source": [
        "def bfs(start, goal, capacity1, capacity2):\n",
        "    path = []\n",
        "    front = []\n",
        "    front.append(start)\n",
        "    visited = []\n",
        "    visited.append(start)\n",
        " while(front is not []):\n",
        " current = front.pop()\n",
        " x = current[0]\n",
        " y = current[1]\n",
        " path.append(current)\n",
        " if(x == goal or y == goal):\n",
        " print(\"Found\")\n",
        " return path\n",
        " if(current[0] <= capacity1 and ([capacity1, current[1]] not in visited)):\n",
        " front.append([capacity1, current[1]])\n",
        " visited.append([capacity1, current[1]])\n",
        " if(current[1] <= capacity2 and ([current[0], capacity2] not in visited)):\n",
        " front.append([current[0], capacity2])\n",
        "\n",
        "visited.append([current[0], capacity2])\n",
        " if(current[0] >= capacity1 and ([0, current[1]] not in visited)):\n",
        " front.append([0, current[1]])\n",
        " visited.append([0, current[1]])\n",
        "if(current[1] >= capacity2 and ([capacity1, 0] not in visited)):\n",
        "front.append([capacity1, 0])\n",
        "visited.append([capacity1, 0]);\n",
        "if(current[1] >= 0 and ([min(x+y, capacity1), max(0,x+y-capacity1)] not in visited)):\n",
        "front.append([min(x+y, capacity1), max(0,x+y-capacity1)])\n",
        "visited.append([min(x+y, capacity1), max(0,x+y-capacity1)])\n",
        "if(current[0] >= 0 and ([max(0, x+y-capacity2), min(x+y, capacity2)] not in visited)):\n",
        "front.append([max(0, x+y-capacity2), min(x+y, capacity2)])\n",
        "visited.append([max(0, x+y-capacity2), min(x+y, capacity2)])\n",
        "    return \"Not Found\"\n",
        "def gcd(a,b):\n",
        "    if(b == 0):\n",
        "        return a\n",
        "    else:\n",
        "        return gcd(b, a%b)\n",
        "capacity1 = int(input(\"Enter the capacity of jug1: \"))\n",
        "capacity2 = int(input(\"Enter the capacity of jug2: \"))\n",
        "goal = int(input(\"Enter the targeted volume: \"))\n",
        "start = [0,0]\n",
        "if(goal % gcd(capacity1, capacity2) == 0):\n",
        "     print(bfs(start, goal, capacity1, capacity2))\n",
        "else:\n",
        "    print(\"No solutions possible for this combination\")"
      ],
      "metadata": {
        "id": "GxZKZDmqOnxW"
      },
      "execution_count": null,
      "outputs": []
    },
    {
      "cell_type": "markdown",
      "source": [
        "# ARTIFICIAL INTELLIGENCE PRACTICAL 6\n",
        "\n",
        "---\n",
        "\n"
      ],
      "metadata": {
        "id": "0Fg7Btn-OuNu"
      }
    },
    {
      "cell_type": "markdown",
      "source": [
        "### Write a program to implement a Depth First Search for water jug problem."
      ],
      "metadata": {
        "id": "KJD6zYxKOzbu"
      }
    },
    {
      "cell_type": "code",
      "source": [
        "def dfs(start, goal, capacity1, capacity2):\n",
        " path = []\n",
        " front = []\n",
        " front.append(start)\n",
        " visited = []\n",
        " visited.append(start)\n",
        " while(front is not []):\n",
        " current = front.pop(0)\n",
        " x = current[0]\n",
        " y = current[1]\n",
        " path.append(current)\n",
        " count = 0\n",
        " if(x == goal or y == goal):\n",
        " print(\"Found\")\n",
        " return path\n",
        " if(current[0] <= capacity1 and ([capacity1, current[1]] not in visited)):\n",
        " front.append([capacity1, current[1]])\n",
        " visited.append([capacity1, current[1]])\n",
        " count = 1\n",
        " elif(current[1] <= capacity2 and ([current[0], capacity2] not in visited)):\n",
        " front.append([current[0], capacity2])\n",
        " visited.append([current[0], capacity2])\n",
        " count = 1\n",
        " elif(current[0] >= capacity1 and ([0, current[1]] not in visited)):\n",
        " front.append([0, current[1]])\n",
        " visited.append([0, current[1]])\n",
        " count = 1\n",
        " elif(current[1] >= capacity2 and ([capacity1, 0] not in visited)):\n",
        " front.append([capacity1, 0])\n",
        " visited.append([capacity1, 0])\n",
        " count = 1\n",
        " elif(current[1] >= 0 and ([min(x+y, capacity1), max(0,x+y-capacity1)] not in visited)):\n",
        " front.append([min(x+y, capacity1), max(0,x+y-capacity1)])\n",
        " visited.append([min(x+y, capacity1), max(0,x+y-capacity1)])\n",
        " count = 1\n",
        " elif(current[0] >= 0 and ([max(0, x+y-capacity2), min(x+y, capacity2)] not in visited)):\n",
        " front.append([max(0, x+y-capacity2), min(x+y, capacity2)])\n",
        " visited.append([max(0, x+y-capacity2), min(x+y, capacity2)])\n",
        " count = 1\n",
        " if(count == 0):\n",
        " path.pop()\n",
        " else:\n",
        " count = 0\n",
        " return \"Not Found\"\n",
        "def gcd(a,b):\n",
        " if(b == 0):\n",
        " return a\n",
        " else:\n",
        " return gcd(b, a%b)\n",
        "capacity1 = int(input(\"Enter the capacity of jug1: \"))\n",
        "capacity2 = int(input(\"Enter the capacity of jug2: \"))\n",
        "goal = int(input(\"Enter the targeted volume: \"))\n",
        "start = [0,0]\n",
        "if(goal % gcd(capacity1, capacity2) == 0):\n",
        " print(dfs(start, goal, capacity1, capacity2))\n",
        "else:\n",
        " printf(\"No solutions possible for this combination\")\n",
        "\n"
      ],
      "metadata": {
        "id": "x1GGd3jkO1aV"
      },
      "execution_count": null,
      "outputs": []
    },
    {
      "cell_type": "markdown",
      "source": [
        "# ARTIFICIAL INTELLIGENCE PRACTICAL 7\n",
        "\n",
        "---\n",
        "\n"
      ],
      "metadata": {
        "id": "DaZ01InuPJ4N"
      }
    },
    {
      "cell_type": "markdown",
      "source": [
        "### Write a Program to implement Best First Search."
      ],
      "metadata": {
        "id": "jMWVMKyJPVpl"
      }
    },
    {
      "cell_type": "code",
      "source": [
        "from queue import PriorityQueue\n",
        "v = 14\n",
        "graph = [[] for i in range(v)]\n",
        "  \n",
        " \n",
        "def best_first_search(source, target, n):\n",
        "    visited = [0] * n\n",
        "    visited = True\n",
        "    pq = PriorityQueue()\n",
        "    pq.put((0, source))\n",
        "    while pq.empty() == False:\n",
        "        u = pq.get()[1]\n",
        "        print(u, end=\" \")\n",
        "        if u == target:\n",
        "            break\n",
        " \n",
        "        for v, c in graph[u]:\n",
        "            if visited[v] == False:\n",
        "                visited[v] = True\n",
        "                pq.put((c, v))\n",
        "    print()\n",
        " \n",
        " \n",
        " \n",
        "def addedge(x, y, cost):\n",
        "    graph[x].append((y, cost))\n",
        "    graph[y].append((x, cost))\n",
        " \n",
        " \n",
        "addedge(0, 1, 3)\n",
        "addedge(0, 2, 6)\n",
        "addedge(0, 3, 5)\n",
        "addedge(1, 4, 9)\n",
        "addedge(1, 5, 8)\n",
        "addedge(2, 6, 12)\n",
        "addedge(2, 7, 14)\n",
        "addedge(3, 8, 7)\n",
        "addedge(8, 9, 5)\n",
        "addedge(8, 10, 6)\n",
        "addedge(9, 11, 1)\n",
        "addedge(9, 12, 10)\n",
        "addedge(9, 13, 2)\n",
        " \n",
        "source = 0\n",
        "target = 9\n",
        "best_first_search(source, target, v)"
      ],
      "metadata": {
        "id": "gqg8ISDiPXPv"
      },
      "execution_count": null,
      "outputs": []
    },
    {
      "cell_type": "markdown",
      "source": [
        "# ARTIFICIAL INTELLIGENCE PRACTICAL 8\n",
        "\n",
        "---\n",
        "\n"
      ],
      "metadata": {
        "id": "vJYYZ1IBQqHE"
      }
    },
    {
      "cell_type": "markdown",
      "source": [
        "### Write a program to implement A* algorithm."
      ],
      "metadata": {
        "id": "Vy7aFZT3QteU"
      }
    },
    {
      "cell_type": "code",
      "source": [
        "from collections import deque\n",
        " \n",
        "class Graph:\n",
        "    def __init__(self, adjac_lis):\n",
        "        self.adjac_lis = adjac_lis\n",
        " \n",
        "    def get_neighbors(self, v):\n",
        "        return self.adjac_lis[v]\n",
        " \n",
        "    def h(self, n):\n",
        "        H = {\n",
        "            'A': 1,\n",
        "            'B': 1,\n",
        "            'C': 1,\n",
        "            'D': 1\n",
        "        }\n",
        " \n",
        "        return H[n]\n",
        " \n",
        "    def a_star_algorithm(self, start, stop):\n",
        "        open_lst = set([start])\n",
        "        closed_lst = set([])\n",
        "        poo = {}\n",
        "        poo[start] = 0\n",
        " \n",
        "        par = {}\n",
        "        par[start] = start\n",
        " \n",
        "        while len(open_lst) > 0:\n",
        "            n = None\n",
        " \n",
        "            for v in open_lst:\n",
        "                if n == None or poo[v] + self.h(v) < poo[n] + self.h(n):\n",
        "                    n = v;\n",
        " \n",
        "            if n == None:\n",
        "                return None\n",
        " \n",
        "            if n == stop:\n",
        "                reconst_path = []\n",
        " \n",
        "                while par[n] != n:\n",
        "                    reconst_path.append(n)\n",
        "                    n = par[n]\n",
        " \n",
        "                reconst_path.append(start)\n",
        " \n",
        "                reconst_path.reverse()\n",
        " \n",
        "                print('Path found: {}'.format(reconst_path))\n",
        "                return reconst_path\n",
        " \n",
        "            for (m, weight) in self.get_neighbors(n):\n",
        "                if m not in open_lst and m not in closed_lst:\n",
        "                    open_lst.add(m)\n",
        "                    par[m] = n\n",
        "                    poo[m] = poo[n] + weight\n",
        " \n",
        "                else:\n",
        "                    if poo[m] > poo[n] + weight:\n",
        "                        poo[m] = poo[n] + weight\n",
        "                        par[m] = n\n",
        " \n",
        "                        if m in closed_lst:\n",
        "                            closed_lst.remove(m)\n",
        "                            open_lst.add(m)\n",
        " \n",
        "            open_lst.remove(n)\n",
        "            closed_lst.add(n)\n",
        " \n",
        "        print('Path does not exist!')\n",
        "        return None\n",
        "\n",
        "if __name__ == '__main__':\n",
        "  adjac_lis = {\n",
        "    'A': [('B', 1), ('C', 3), ('D', 7)],\n",
        "    'B': [('D', 5)],\n",
        "    'C': [('D', 12)]\n",
        "}\n",
        "graph1 = Graph(adjac_lis)\n",
        "graph1.a_star_algorithm('A', 'D')\n"
      ],
      "metadata": {
        "id": "ipVTNBphQzyK"
      },
      "execution_count": null,
      "outputs": []
    },
    {
      "cell_type": "markdown",
      "source": [
        "# ARTIFICIAL INTELLIGENCE PRACTICAL 9\n",
        "\n",
        "---\n",
        "\n"
      ],
      "metadata": {
        "id": "o6r5o49ITya6"
      }
    },
    {
      "cell_type": "markdown",
      "source": [
        "### Write a Program to implement tic tac toe game for 0 and X."
      ],
      "metadata": {
        "id": "YH3wCAaDT1SK"
      }
    },
    {
      "cell_type": "code",
      "source": [
        "import random\n",
        "\n",
        "\n",
        "class TicTacToe:\n",
        "\n",
        "    def __init__(self):\n",
        "        self.board = []\n",
        "\n",
        "    def create_board(self):\n",
        "        for i in range(3):\n",
        "            row = []\n",
        "            for j in range(3):\n",
        "                row.append('-')\n",
        "            self.board.append(row)\n",
        "\n",
        "    def get_random_first_player(self):\n",
        "        return random.randint(0, 1)\n",
        "\n",
        "    def fix_spot(self, row, col, player):\n",
        "        self.board[row][col] = player\n",
        "\n",
        "    def is_player_win(self, player):\n",
        "        win = None\n",
        "\n",
        "        n = len(self.board)\n",
        "\n",
        "        # checking rows\n",
        "        for i in range(n):\n",
        "            win = True\n",
        "            for j in range(n):\n",
        "                if self.board[i][j] != player:\n",
        "                    win = False\n",
        "                    break\n",
        "            if win:\n",
        "                return win\n",
        "\n",
        "        # checking columns\n",
        "        for i in range(n):\n",
        "            win = True\n",
        "            for j in range(n):\n",
        "                if self.board[j][i] != player:\n",
        "                    win = False\n",
        "                    break\n",
        "            if win:\n",
        "                return win\n",
        "\n",
        "        # checking diagonals\n",
        "        win = True\n",
        "        for i in range(n):\n",
        "            if self.board[i][i] != player:\n",
        "                win = False\n",
        "                break\n",
        "        if win:\n",
        "            return win\n",
        "\n",
        "        win = True\n",
        "        for i in range(n):\n",
        "            if self.board[i][n - 1 - i] != player:\n",
        "                win = False\n",
        "                break\n",
        "        if win:\n",
        "            return win\n",
        "        return False\n",
        "\n",
        "        for row in self.board:\n",
        "            for item in row:\n",
        "                if item == '-':\n",
        "                    return False\n",
        "        return True\n",
        "\n",
        "    def is_board_filled(self):\n",
        "        for row in self.board:\n",
        "            for item in row:\n",
        "                if item == '-':\n",
        "                    return False\n",
        "        return True\n",
        "\n",
        "    def swap_player_turn(self, player):\n",
        "        return 'X' if player == 'O' else 'O'\n",
        "\n",
        "    def show_board(self):\n",
        "        for row in self.board:\n",
        "            for item in row:\n",
        "                print(item, end=\" \")\n",
        "            print()\n",
        "\n",
        "    def start(self):\n",
        "        self.create_board()\n",
        "\n",
        "        player = 'X' if self.get_random_first_player() == 1 else 'O'\n",
        "        while True:\n",
        "            print(f\"Player {player} turn\")\n",
        "\n",
        "            self.show_board()\n",
        "\n",
        "            # taking user input\n",
        "            row, col = list(\n",
        "                map(int, input(\"Enter row and column numbers to fix spot: \").split()))\n",
        "            print()\n",
        "\n",
        "            # fixing the spot\n",
        "            self.fix_spot(row - 1, col - 1, player)\n",
        "\n",
        "            # checking whether current player is won or not\n",
        "            if self.is_player_win(player):\n",
        "                print(f\"Player {player} wins the game!\")\n",
        "                break\n",
        "\n",
        "            # checking whether the game is draw or not\n",
        "            if self.is_board_filled():\n",
        "                print(\"Match Draw!\")\n",
        "                break\n",
        "\n",
        "            # swapping the turn\n",
        "            player = self.swap_player_turn(player)\n",
        "\n",
        "        # showing the final view of board\n",
        "        print()\n",
        "        self.show_board()\n",
        "\n",
        "\n",
        "# starting the game\n",
        "tic_tac_toe = TicTacToe()\n",
        "tic_tac_toe.start()"
      ],
      "metadata": {
        "id": "zNuQc6heT4G5"
      },
      "execution_count": null,
      "outputs": []
    }
  ]
}